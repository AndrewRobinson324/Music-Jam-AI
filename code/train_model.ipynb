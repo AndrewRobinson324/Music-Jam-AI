{
 "cells": [
  {
   "cell_type": "markdown",
   "id": "c2a91f8c",
   "metadata": {},
   "source": [
    "#### Trains our transformer model on the tokenized data\n",
    "\n",
    "1. Loads our token sequences and vocabulary \n",
    "2. Build Transformer model (probably going to use Pytorch but we will look into what)\n",
    "3. Train on tokens [:-1] -> [tokens [1:]]\n",
    "4. Save checkpoints and training logs\n",
    "\n",
    "\n",
    "P.S This is subject to lots of change on how we prepare the model I think we will probably be training on multiple datasets and then freezing at different points\n",
    "i.e train first on the accompaniment dataset so it understands general structure and how accompaniment works, then train on dataset with melodies as well so it gets how \n",
    "to play and be reactive based on the melody (we also need to add in a lot of noise and personal data for this part since we will not be perfect soloist like in the jazz\n",
    "songs and MIDI from a Database)"
   ]
  },
  {
   "cell_type": "markdown",
   "id": "b65e5213",
   "metadata": {},
   "source": []
  }
 ],
 "metadata": {
  "language_info": {
   "name": "python"
  }
 },
 "nbformat": 4,
 "nbformat_minor": 5
}
