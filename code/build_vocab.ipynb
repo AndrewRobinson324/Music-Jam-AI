{
 "cells": [
  {
   "cell_type": "markdown",
   "id": "0d000dcc",
   "metadata": {},
   "source": [
    "#### This file is responsible for building the token vocabulary \n",
    "\n",
    "1. Scan all the saved token sequences\n",
    "2. Build a list of unique tokens\n",
    "3. Map each to an integer\n",
    "4. save as a vocab.json or vocab.pkl"
   ]
  },
  {
   "cell_type": "markdown",
   "id": "46b3217e",
   "metadata": {},
   "source": [
    "load the REMI tokens"
   ]
  },
  {
   "cell_type": "code",
   "execution_count": 6,
   "id": "6d131f42",
   "metadata": {},
   "outputs": [],
   "source": [
    "import json \n",
    "from pathlib import Path   \n",
    "from collections import Counter"
   ]
  },
  {
   "cell_type": "code",
   "execution_count": 7,
   "id": "53d5fc99",
   "metadata": {},
   "outputs": [],
   "source": [
    "project_root = Path.cwd().parent \n",
    "remi_segments_path = project_root / \"remi_segments.jsonl\"\n",
    "\n",
    "remi_segments = []\n",
    "with open(remi_segments_path, \"r\") as f:\n",
    "    for line in f:\n",
    "        remi_segments.append(json.loads(line))\n",
    "\n",
    "token_counter = Counter()\n",
    "for segment in remi_segments:\n",
    "    token_counter.update(segment[\"tokens\"])"
   ]
  },
  {
   "cell_type": "markdown",
   "id": "33601929",
   "metadata": {},
   "source": [
    "Build the vocab mapping with <PAD> and <UNK> reserved"
   ]
  },
  {
   "cell_type": "code",
   "execution_count": 8,
   "id": "3c33195c",
   "metadata": {},
   "outputs": [],
   "source": [
    "special_tokens = [\"<PAD>\", \"<UNK>\"]\n",
    "all_tokens = special_tokens + sorted(token_counter.keys())\n",
    "vocab = {tok: idx for idx, tok in enumerate(all_tokens)}\n",
    "reverse_vocab = {idx: tok for tok, idx in vocab.items()}"
   ]
  },
  {
   "cell_type": "markdown",
   "id": "ee87c694",
   "metadata": {},
   "source": [
    "Save the vocab"
   ]
  },
  {
   "cell_type": "code",
   "execution_count": 9,
   "id": "cab63369",
   "metadata": {},
   "outputs": [
    {
     "name": "stdout",
     "output_type": "stream",
     "text": [
      "Vocab saved to d:\\musicJamAI\\Music_Jam_AI_Real\\Music-Jam-AI\\vocab.json (1769 tokens)\n"
     ]
    }
   ],
   "source": [
    "vocab_path = project_root / \"vocab.json\"\n",
    "with open(vocab_path, \"w\") as f:\n",
    "    json.dump(vocab, f, indent=2)\n",
    "print(f\"Vocab saved to {vocab_path} ({len(vocab)} tokens)\")"
   ]
  },
  {
   "cell_type": "markdown",
   "id": "6fee2154",
   "metadata": {},
   "source": [
    "Encode/Decode Function"
   ]
  },
  {
   "cell_type": "code",
   "execution_count": 10,
   "id": "822a049e",
   "metadata": {},
   "outputs": [],
   "source": [
    "def encode(tokens):\n",
    "    oov_count = 0\n",
    "    indices = []\n",
    "    for t in tokens:\n",
    "        if t in vocab:\n",
    "            indices.append(vocab[t])\n",
    "        else:\n",
    "            indices.append(vocab[\"<UNK>\"])\n",
    "            oov_count += 1\n",
    "    return indices, oov_count\n",
    "\n",
    "def decode(indices):\n",
    "    tokens = []\n",
    "    oov_count = 0\n",
    "    for idx in indices:\n",
    "        tok = reverse_vocab.get(idx, \"<UNK>\")\n",
    "        tokens.append(tok)\n",
    "        if tok == \"<UNK>\":\n",
    "            oov_count += 1\n",
    "    return tokens, oov_count"
   ]
  },
  {
   "cell_type": "markdown",
   "id": "ddcdf63b",
   "metadata": {},
   "source": []
  }
 ],
 "metadata": {
  "kernelspec": {
   "display_name": "rentmtl-env",
   "language": "python",
   "name": "python3"
  },
  "language_info": {
   "codemirror_mode": {
    "name": "ipython",
    "version": 3
   },
   "file_extension": ".py",
   "mimetype": "text/x-python",
   "name": "python",
   "nbconvert_exporter": "python",
   "pygments_lexer": "ipython3",
   "version": "3.12.3"
  }
 },
 "nbformat": 4,
 "nbformat_minor": 5
}
