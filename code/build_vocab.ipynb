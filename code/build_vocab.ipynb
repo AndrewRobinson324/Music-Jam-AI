{
 "cells": [
  {
   "cell_type": "markdown",
   "id": "0d000dcc",
   "metadata": {},
   "source": [
    "#### This file is responsible for building the token vocabulary \n",
    "\n",
    "1. Scan all the saved token sequences\n",
    "2. Build a list of unique tokens\n",
    "3. Map each to an integer\n",
    "4. save as a vocab.json or vocab.pkl"
   ]
  },
  {
   "cell_type": "markdown",
   "id": "46b3217e",
   "metadata": {},
   "source": []
  }
 ],
 "metadata": {
  "language_info": {
   "name": "python"
  }
 },
 "nbformat": 4,
 "nbformat_minor": 5
}
